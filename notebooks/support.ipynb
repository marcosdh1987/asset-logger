{
 "cells": [
  {
   "cell_type": "code",
   "execution_count": 44,
   "metadata": {},
   "outputs": [],
   "source": [
    "#install libraries\n",
    "\n",
    "_ = !pip install -r ../requirements.txt"
   ]
  },
  {
   "cell_type": "code",
   "execution_count": 45,
   "metadata": {},
   "outputs": [],
   "source": [
    "# notebook to get information about dolar price in Argentina and save it in a csv file\n",
    "\n",
    "import requests\n",
    "\n",
    "\n",
    "# In[2]:\n",
    "\n"
   ]
  },
  {
   "cell_type": "code",
   "execution_count": 58,
   "metadata": {},
   "outputs": [
    {
     "name": "stdout",
     "output_type": "stream",
     "text": [
      "<Response [200]>\n"
     ]
    }
   ],
   "source": [
    "dolar_url = 'https://api.bluelytics.com.ar/v2/latest'\n",
    "\n",
    "dolar = requests.get(dolar_url)\n",
    "print(dolar)"
   ]
  },
  {
   "cell_type": "code",
   "execution_count": 59,
   "metadata": {},
   "outputs": [
    {
     "name": "stdout",
     "output_type": "stream",
     "text": [
      "{'oficial': {'value_avg': 229.5, 'value_sell': 234.0, 'value_buy': 225.0}, 'blue': {'value_avg': 465.5, 'value_sell': 468.0, 'value_buy': 463.0}, 'oficial_euro': {'value_avg': 246.0, 'value_sell': 251.0, 'value_buy': 241.0}, 'blue_euro': {'value_avg': 500.5, 'value_sell': 503.0, 'value_buy': 498.0}, 'last_update': '2023-05-04T15:40:26.938401-03:00'}\n"
     ]
    }
   ],
   "source": [
    "#parseo el json\n",
    "dolar_json = dolar.json()\n",
    "print(dolar_json)"
   ]
  },
  {
   "cell_type": "code",
   "execution_count": 60,
   "metadata": {},
   "outputs": [
    {
     "name": "stdout",
     "output_type": "stream",
     "text": [
      "{'dolar_oficial_value_avg': 229.5, 'dolar_oficial_value_sell': 234.0, 'dolar_oficial_value_buy': 225.0, 'dolar_blue_value_avg': 465.5, 'dolar_blue_value_sell': 468.0, 'dolar_blue_value_buy': 463.0, 'dolar_oficial_euro_value_avg': 246.0, 'dolar_oficial_euro_value_sell': 251.0, 'dolar_oficial_euro_value_buy': 241.0, 'dolar_blue_euro_value_avg': 500.5, 'dolar_blue_euro_value_sell': 503.0, 'dolar_blue_euro_value_buy': 498.0, 'last_update': '2023-05-04T15:40:26.938401-03:00'}\n"
     ]
    }
   ],
   "source": [
    "#create a series with the json to put as a row in the dataframe\n",
    "dolar_row = {}\n",
    "\n",
    "for i in dolar_json:\n",
    "    if i == 'last_update':\n",
    "        dolar_row[\"last_update\"] = dolar_json[i]\n",
    "    else:\n",
    "        for j in dolar_json[i]:\n",
    "            dolar_row[f\"dolar_{i}_{j}\"] = dolar_json[i][j]\n",
    "\n",
    "print(dolar_row)\n"
   ]
  },
  {
   "cell_type": "code",
   "execution_count": 61,
   "metadata": {},
   "outputs": [
    {
     "name": "stdout",
     "output_type": "stream",
     "text": [
      "   dolar_oficial_value_avg  dolar_oficial_value_sell  dolar_oficial_value_buy  \\\n",
      "0                    229.5                     234.0                    225.0   \n",
      "\n",
      "   dolar_blue_value_avg  dolar_blue_value_sell  dolar_blue_value_buy  \\\n",
      "0                 465.5                  468.0                 463.0   \n",
      "\n",
      "   dolar_oficial_euro_value_avg  dolar_oficial_euro_value_sell  \\\n",
      "0                         246.0                          251.0   \n",
      "\n",
      "   dolar_oficial_euro_value_buy  dolar_blue_euro_value_avg  \\\n",
      "0                         241.0                      500.5   \n",
      "\n",
      "   dolar_blue_euro_value_sell  dolar_blue_euro_value_buy  \\\n",
      "0                       503.0                      498.0   \n",
      "\n",
      "                        last_update  \n",
      "0  2023-05-04T15:40:26.938401-03:00  \n"
     ]
    }
   ],
   "source": [
    "#convert dolar_row to a dataframe\n",
    "dolar_df = pd.DataFrame(dolar_row, index=[0])\n",
    "series = dolar_df.iloc[0]\n",
    "print(dolar_df)"
   ]
  },
  {
   "cell_type": "code",
   "execution_count": 42,
   "metadata": {},
   "outputs": [],
   "source": [
    "\n",
    "#save df to csv\n",
    "dolar_df.to_csv('../src/data/dolar.csv', index=False)\n",
    "\n"
   ]
  },
  {
   "cell_type": "code",
   "execution_count": 62,
   "metadata": {},
   "outputs": [],
   "source": [
    "import psycopg2\n",
    "\n",
    "conn = psycopg2.connect(\n",
    "    host=\"192.168.0.47\",\n",
    "    database=\"assets\",\n",
    "    user=\"postgres\",\n",
    "    password=\"postgres\",\n",
    "    port=5431)\n",
    "\n",
    "cur = conn.cursor()\n",
    "\n"
   ]
  },
  {
   "cell_type": "code",
   "execution_count": 65,
   "metadata": {},
   "outputs": [],
   "source": [
    "#query to insert the data in the database\n",
    "\n",
    "#define a query to create a table if it doesn't exist\n",
    "create_table_query = '''CREATE TABLE IF NOT EXISTS dollar\n",
    "            (id SERIAL PRIMARY KEY,\n",
    "            last_update timestamp,\n",
    "            dolar_oficial_value_avg float,\n",
    "            dolar_oficial_value_sell float,\n",
    "            dolar_oficial_value_buy float,\n",
    "            dolar_blue_value_avg float,\n",
    "            dolar_blue_value_sell float,\n",
    "            dolar_blue_value_buy float,\n",
    "            dolar_oficial_euro_value_avg float,\n",
    "            dolar_oficial_euro_value_sell float,\n",
    "            dolar_oficial_euro_value_buy float,\n",
    "            dolar_blue_euro_value_avg float,\n",
    "            dolar_blue_euro_value_sell float,\n",
    "            dolar_blue_euro_value_buy float); '''\n",
    "            \n",
    "\n",
    "#execute the query\n",
    "cur.execute(create_table_query)\n",
    "conn.commit()\n"
   ]
  },
  {
   "cell_type": "code",
   "execution_count": 63,
   "metadata": {},
   "outputs": [],
   "source": [
    "series = dolar_df.iloc[0]\n",
    "\n",
    "#query to insert the series in the table dolar\n",
    "query = \"\"\"INSERT \n",
    "            INTO dollar(dolar_oficial_value_avg, dolar_oficial_value_sell, dolar_oficial_value_buy, dolar_blue_value_avg, dolar_blue_value_sell, dolar_blue_value_buy, dolar_oficial_euro_value_avg, dolar_oficial_euro_value_sell, dolar_oficial_euro_value_buy, dolar_blue_euro_value_avg, dolar_blue_euro_value_sell, dolar_blue_euro_value_buy,last_update)\n",
    "            VALUES(%s, %s, %s, %s, %s, %s, %s, %s, %s, %s,%s,%s,%s);\"\"\"\n",
    "\n",
    "#execute the query\n",
    "cur.execute(query, series)\n",
    "conn.commit()\n",
    "\n",
    "    "
   ]
  },
  {
   "cell_type": "code",
   "execution_count": 64,
   "metadata": {},
   "outputs": [
    {
     "name": "stdout",
     "output_type": "stream",
     "text": [
      "   id    dolar_oficial_value_avg  dolar_oficial_value_sell  \\\n",
      "0   1 2023-05-04 14:55:26.357664                     229.5   \n",
      "1   2 2023-05-04 15:40:26.938401                     229.5   \n",
      "\n",
      "   dolar_oficial_value_buy  dolar_blue_value_avg  dolar_blue_value_sell  \\\n",
      "0                    234.0                 225.0                  464.5   \n",
      "1                    234.0                 225.0                  465.5   \n",
      "\n",
      "   dolar_blue_value_buy  dolar_oficial_euro_value_avg  \\\n",
      "0                 467.0                         462.0   \n",
      "1                 468.0                         463.0   \n",
      "\n",
      "   dolar_oficial_euro_value_sell  dolar_oficial_euro_value_buy  \\\n",
      "0                          246.0                         251.0   \n",
      "1                          246.0                         251.0   \n",
      "\n",
      "   dolar_blue_euro_value_avg  dolar_blue_euro_value_sell  \\\n",
      "0                      241.0                       499.5   \n",
      "1                      241.0                       500.5   \n",
      "\n",
      "   dolar_blue_euro_value_buy  last_update  \n",
      "0                      502.0        497.0  \n",
      "1                      503.0        498.0  \n"
     ]
    }
   ],
   "source": [
    "#query to read the table\n",
    "query = \"SELECT * FROM dolar\"\n",
    "\n",
    "#execute the query\n",
    "cur.execute(query)\n",
    "conn.commit()\n",
    "\n",
    "#fetch the data\n",
    "data = cur.fetchall()\n",
    "\n",
    "#convert the data to a dataframe\n",
    "dolar_df = pd.DataFrame(data, columns=['id','dolar_oficial_value_avg', 'dolar_oficial_value_sell', 'dolar_oficial_value_buy', 'dolar_blue_value_avg', 'dolar_blue_value_sell', 'dolar_blue_value_buy', 'dolar_oficial_euro_value_avg', 'dolar_oficial_euro_value_sell', 'dolar_oficial_euro_value_buy', 'dolar_blue_euro_value_avg', 'dolar_blue_euro_value_sell', 'dolar_blue_euro_value_buy','last_update'])\n",
    "\n",
    "\n",
    "\n",
    "#print data\n",
    "print(dolar_df)"
   ]
  },
  {
   "cell_type": "code",
   "execution_count": null,
   "metadata": {},
   "outputs": [],
   "source": [
    "#close the connection\n",
    "cur.close()\n",
    "conn.close()"
   ]
  }
 ],
 "metadata": {
  "kernelspec": {
   "display_name": "Python 3",
   "language": "python",
   "name": "python3"
  },
  "language_info": {
   "codemirror_mode": {
    "name": "ipython",
    "version": 3
   },
   "file_extension": ".py",
   "mimetype": "text/x-python",
   "name": "python",
   "nbconvert_exporter": "python",
   "pygments_lexer": "ipython3",
   "version": "3.10.9"
  },
  "orig_nbformat": 4,
  "vscode": {
   "interpreter": {
    "hash": "aee8b7b246df8f9039afb4144a1f6fd8d2ca17a180786b69acc140d282b71a49"
   }
  }
 },
 "nbformat": 4,
 "nbformat_minor": 2
}
